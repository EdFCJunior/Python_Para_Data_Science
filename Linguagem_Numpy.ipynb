{
  "nbformat": 4,
  "nbformat_minor": 0,
  "metadata": {
    "colab": {
      "provenance": [],
      "collapsed_sections": [],
      "authorship_tag": "ABX9TyNXM8nTbiGp5CL8BIXf548x",
      "include_colab_link": true
    },
    "kernelspec": {
      "name": "python3",
      "display_name": "Python 3"
    },
    "language_info": {
      "name": "python"
    }
  },
  "cells": [
    {
      "cell_type": "markdown",
      "metadata": {
        "id": "view-in-github",
        "colab_type": "text"
      },
      "source": [
        "<a href=\"https://colab.research.google.com/github/EdFCJunior/Python_Para_Data_Science/blob/main/Linguagem_Numpy.ipynb\" target=\"_parent\"><img src=\"https://colab.research.google.com/assets/colab-badge.svg\" alt=\"Open In Colab\"/></a>"
      ]
    },
    {
      "cell_type": "markdown",
      "source": [
        "# Importando o Numpy"
      ],
      "metadata": {
        "id": "LWeDfSQyHunY"
      }
    },
    {
      "cell_type": "code",
      "execution_count": 42,
      "metadata": {
        "id": "Llu773RpHb-O"
      },
      "outputs": [],
      "source": [
        "import numpy as np\n",
        "\n",
        "carros_anos = np.loadtxt('carros-anos.txt', dtype = int)\n",
        "carros_km = np.loadtxt('carros-km.txt')\n",
        "carros_nomes = np.loadtxt('carros-nomes.txt', delimiter = '\\n', dtype = str)\n",
        "carros_valor = np.loadtxt('carros-valor.txt')\n",
        "carros_zero_km = np.loadtxt('carros-zero-km.txt', dtype = int)"
      ]
    },
    {
      "cell_type": "markdown",
      "source": [
        "## Verificando a quantidade de dados que estamos trabalhando"
      ],
      "metadata": {
        "id": "H6sZpgfuKhpn"
      }
    },
    {
      "cell_type": "code",
      "source": [
        "print(carros_anos.shape, carros_km.shape, carros_nomes.shape, carros_valor.shape, carros_zero_km.shape)"
      ],
      "metadata": {
        "colab": {
          "base_uri": "https://localhost:8080/"
        },
        "id": "_TDRtNVvJ7na",
        "outputId": "a5a4674f-8de4-4a27-ee8f-15ec498826ce"
      },
      "execution_count": 43,
      "outputs": [
        {
          "output_type": "stream",
          "name": "stdout",
          "text": [
            "(258,) (258,) (258,) (258,) (258,)\n"
          ]
        }
      ]
    },
    {
      "cell_type": "markdown",
      "source": [
        "## Criando colunas"
      ],
      "metadata": {
        "id": "RX-Sn_M9GMOU"
      }
    },
    {
      "cell_type": "code",
      "source": [
        "idade_carros = 2022 - carros_anos\n",
        "km_media = (carros_km / (2022 - carros_anos)).round(2)"
      ],
      "metadata": {
        "id": "5ZiJf2NmGSpM"
      },
      "execution_count": 44,
      "outputs": []
    },
    {
      "cell_type": "code",
      "source": [
        "dados_carros = np.column_stack(\n",
        "    (\n",
        "    carros_nomes,\n",
        "    carros_anos,\n",
        "    carros_valor,\n",
        "    carros_km,\n",
        "    carros_zero_km,\n",
        "    idade_carros,\n",
        "    km_media\n",
        "    )\n",
        ")"
      ],
      "metadata": {
        "id": "Qst4HnlDQ3Ya"
      },
      "execution_count": 45,
      "outputs": []
    },
    {
      "cell_type": "markdown",
      "source": [
        "## Concatenando Arrays"
      ],
      "metadata": {
        "id": "JZCMVmEjGZBE"
      }
    },
    {
      "cell_type": "code",
      "source": [
        "dados_carros"
      ],
      "metadata": {
        "colab": {
          "base_uri": "https://localhost:8080/"
        },
        "id": "9eLHQGdqRe83",
        "outputId": "22dc45f4-be0d-411a-e0a7-01829a0e40d8"
      },
      "execution_count": 46,
      "outputs": [
        {
          "output_type": "execute_result",
          "data": {
            "text/plain": [
              "array([['Jetta Variant', '2003', '88078.64', ..., '0', '19', '2337.37'],\n",
              "       ['Passat', '1991', '106161.94', ..., '0', '31', '184.26'],\n",
              "       ['Crossfox', '1990', '72832.16', ..., '0', '32', '1160.09'],\n",
              "       ...,\n",
              "       ['Classe GLK', '2002', '68934.03', ..., '0', '20', '2631.85'],\n",
              "       ['Aston Martin DB5', '1996', '122110.9', ..., '0', '26', '295.58'],\n",
              "       ['Macan', '1992', '90381.47', ..., '0', '30', '1672.93']],\n",
              "      dtype='<U38')"
            ]
          },
          "metadata": {},
          "execution_count": 46
        }
      ]
    }
  ]
}