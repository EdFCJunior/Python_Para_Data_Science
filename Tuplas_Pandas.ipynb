{
  "nbformat": 4,
  "nbformat_minor": 0,
  "metadata": {
    "colab": {
      "provenance": [],
      "authorship_tag": "ABX9TyMyDpFOWrZXtmez41saDoot",
      "include_colab_link": true
    },
    "kernelspec": {
      "name": "python3",
      "display_name": "Python 3"
    },
    "language_info": {
      "name": "python"
    }
  },
  "cells": [
    {
      "cell_type": "markdown",
      "metadata": {
        "id": "view-in-github",
        "colab_type": "text"
      },
      "source": [
        "<a href=\"https://colab.research.google.com/github/EdFCJunior/Python_Para_Data_Science/blob/main/Tuplas_Pandas.ipynb\" target=\"_parent\"><img src=\"https://colab.research.google.com/assets/colab-badge.svg\" alt=\"Open In Colab\"/></a>"
      ]
    },
    {
      "cell_type": "markdown",
      "source": [
        "#Tuplas e Pandas"
      ],
      "metadata": {
        "id": "knj8AcMY3y-V"
      }
    },
    {
      "cell_type": "markdown",
      "source": [
        "## Criando tuplas"
      ],
      "metadata": {
        "id": "5zVXT0BY33FH"
      }
    },
    {
      "cell_type": "code",
      "execution_count": 42,
      "metadata": {
        "colab": {
          "base_uri": "https://localhost:8080/"
        },
        "id": "XmrMpKBG3mCJ",
        "outputId": "17159890-0f3f-4e05-c512-240749379c2d"
      },
      "outputs": [
        {
          "output_type": "execute_result",
          "data": {
            "text/plain": [
              "(1, 2, 3)"
            ]
          },
          "metadata": {},
          "execution_count": 42
        }
      ],
      "source": [
        "(1, 2, 3)"
      ]
    },
    {
      "cell_type": "code",
      "source": [
        "x = tuple([1, 2, 3])\n",
        "x"
      ],
      "metadata": {
        "colab": {
          "base_uri": "https://localhost:8080/"
        },
        "id": "zXaeEhrd37cK",
        "outputId": "9262f7e6-d821-4aea-fda4-ea0639e4e554"
      },
      "execution_count": 43,
      "outputs": [
        {
          "output_type": "execute_result",
          "data": {
            "text/plain": [
              "(1, 2, 3)"
            ]
          },
          "metadata": {},
          "execution_count": 43
        }
      ]
    },
    {
      "cell_type": "code",
      "source": [
        "type(x)"
      ],
      "metadata": {
        "colab": {
          "base_uri": "https://localhost:8080/"
        },
        "id": "1sXqhW7H4B24",
        "outputId": "80d8c71f-8aa6-464c-a055-3f63b789c823"
      },
      "execution_count": 44,
      "outputs": [
        {
          "output_type": "execute_result",
          "data": {
            "text/plain": [
              "tuple"
            ]
          },
          "metadata": {},
          "execution_count": 44
        }
      ]
    },
    {
      "cell_type": "code",
      "source": [
        "1, 2, 3"
      ],
      "metadata": {
        "colab": {
          "base_uri": "https://localhost:8080/"
        },
        "id": "eWEPBNgs4E_8",
        "outputId": "13d5843e-82dc-4f6c-e242-a4c57b50df87"
      },
      "execution_count": 45,
      "outputs": [
        {
          "output_type": "execute_result",
          "data": {
            "text/plain": [
              "(1, 2, 3)"
            ]
          },
          "metadata": {},
          "execution_count": 45
        }
      ]
    },
    {
      "cell_type": "markdown",
      "source": [
        "## Laços com Tuplas"
      ],
      "metadata": {
        "id": "66PSeavc4QbV"
      }
    },
    {
      "cell_type": "code",
      "source": [
        "carros = (\n",
        "    (\n",
        "        'Jetta Variant',\n",
        "        'Motor 4.0 Turbo',\n",
        "        2003,\n",
        "        False,\n",
        "        ('Rodas de liga', 'Travas elétricas', 'Piloto automático')\n",
        "    ),\n",
        "    (\n",
        "        'Passat',\n",
        "        'Motor Diesel',\n",
        "        1991,\n",
        "        True,\n",
        "        ('Central multimídia', 'Teto panorâmico', 'Freios ABS')\n",
        "    )\n",
        ")"
      ],
      "metadata": {
        "id": "YonabmwU4Juc"
      },
      "execution_count": 46,
      "outputs": []
    },
    {
      "cell_type": "code",
      "source": [
        "for itens in carros:\n",
        "  for item in itens[4]:\n",
        "    print(item)"
      ],
      "metadata": {
        "colab": {
          "base_uri": "https://localhost:8080/"
        },
        "id": "xicr52dc4SvO",
        "outputId": "27e1e5c4-34bf-44ef-ea51-84f7e61ec262"
      },
      "execution_count": 47,
      "outputs": [
        {
          "output_type": "stream",
          "name": "stdout",
          "text": [
            "Rodas de liga\n",
            "Travas elétricas\n",
            "Piloto automático\n",
            "Central multimídia\n",
            "Teto panorâmico\n",
            "Freios ABS\n"
          ]
        }
      ]
    },
    {
      "cell_type": "markdown",
      "source": [
        "## zip()"
      ],
      "metadata": {
        "id": "LEN81cMC4xeu"
      }
    },
    {
      "cell_type": "code",
      "source": [
        "nomes = ['Passat', 'Crossfox', 'DS5', 'C4', 'Jetta']\n",
        "kms = [15000, 12000, 32000, 8000, 50000]\n",
        "list(zip(nomes, kms))"
      ],
      "metadata": {
        "colab": {
          "base_uri": "https://localhost:8080/"
        },
        "id": "5ITUZHW94Zz_",
        "outputId": "105fa110-58b1-43bb-88a9-8d621854e1da"
      },
      "execution_count": 48,
      "outputs": [
        {
          "output_type": "execute_result",
          "data": {
            "text/plain": [
              "[('Passat', 15000),\n",
              " ('Crossfox', 12000),\n",
              " ('DS5', 32000),\n",
              " ('C4', 8000),\n",
              " ('Jetta', 50000)]"
            ]
          },
          "metadata": {},
          "execution_count": 48
        }
      ]
    },
    {
      "cell_type": "markdown",
      "source": [
        "## Imprimindo valores com condicionais (Tuplas)"
      ],
      "metadata": {
        "id": "8vrGdSw35dHR"
      }
    },
    {
      "cell_type": "code",
      "source": [
        "for nome, km in zip(nomes, kms):\n",
        "  if(km >= 20_000):\n",
        "    print(nome)"
      ],
      "metadata": {
        "colab": {
          "base_uri": "https://localhost:8080/"
        },
        "id": "fBdlWY5_474P",
        "outputId": "9a3251b6-979a-4886-da88-d11d147020c8"
      },
      "execution_count": 49,
      "outputs": [
        {
          "output_type": "stream",
          "name": "stdout",
          "text": [
            "DS5\n",
            "Jetta\n"
          ]
        }
      ]
    },
    {
      "cell_type": "markdown",
      "source": [
        "## Criação de dicionários"
      ],
      "metadata": {
        "id": "tDHmPPWh5nru"
      }
    },
    {
      "cell_type": "code",
      "source": [
        "dict(zip(nomes, kms))"
      ],
      "metadata": {
        "colab": {
          "base_uri": "https://localhost:8080/"
        },
        "id": "YJMS19sr5Q92",
        "outputId": "dab9dc90-87f7-4902-afff-6fa06505b1db"
      },
      "execution_count": 50,
      "outputs": [
        {
          "output_type": "execute_result",
          "data": {
            "text/plain": [
              "{'Passat': 15000, 'Crossfox': 12000, 'DS5': 32000, 'C4': 8000, 'Jetta': 50000}"
            ]
          },
          "metadata": {},
          "execution_count": 50
        }
      ]
    },
    {
      "cell_type": "markdown",
      "source": [
        "## Exercício (Operações básicas com dicionários)"
      ],
      "metadata": {
        "id": "B8o3JOZh5-ys"
      }
    },
    {
      "cell_type": "code",
      "source": [
        "dados = {\n",
        "    'Passat': {\n",
        "        'ano': 2012,\n",
        "        'km': 50000,\n",
        "        'valor': 75000,\n",
        "        'acessorios': ['Airbag', 'ABS']\n",
        "    }, \n",
        "    'Crossfox': {\n",
        "        'ano': 2015,\n",
        "        'km': 35000,\n",
        "        'valor': 25000\n",
        "    }\n",
        "}"
      ],
      "metadata": {
        "id": "oGGv5e-65t8s"
      },
      "execution_count": 51,
      "outputs": []
    },
    {
      "cell_type": "markdown",
      "source": [
        "#### 1) Testar se a chave acessorios existe no dicionário de informações do carro Crossfox (Resposta: False)"
      ],
      "metadata": {
        "id": "BXb-Yecf6Ni_"
      }
    },
    {
      "cell_type": "code",
      "source": [
        "'acessorios' in dados['Crossfox']"
      ],
      "metadata": {
        "colab": {
          "base_uri": "https://localhost:8080/"
        },
        "id": "BuY9aD4V6Gdn",
        "outputId": "36cc7260-c315-46f9-c6f1-d2d84c1e73d2"
      },
      "execution_count": 52,
      "outputs": [
        {
          "output_type": "execute_result",
          "data": {
            "text/plain": [
              "False"
            ]
          },
          "metadata": {},
          "execution_count": 52
        }
      ]
    },
    {
      "cell_type": "markdown",
      "source": [
        "#### 2) Testar se a chave acessorios existe no dicionário de informações do carro Passat (Resposta: True)"
      ],
      "metadata": {
        "id": "ueNP6vDT69Au"
      }
    },
    {
      "cell_type": "code",
      "source": [
        "'acessorios' in dados['Passat']"
      ],
      "metadata": {
        "colab": {
          "base_uri": "https://localhost:8080/"
        },
        "id": "Vb11_ESy6722",
        "outputId": "b7e7f8d4-880f-4b10-c874-f2a90e60b2d0"
      },
      "execution_count": 53,
      "outputs": [
        {
          "output_type": "execute_result",
          "data": {
            "text/plain": [
              "True"
            ]
          },
          "metadata": {},
          "execution_count": 53
        }
      ]
    },
    {
      "cell_type": "markdown",
      "source": [
        "#### 3) Obter o valor do carro Crossfox (Resposta: 25000)"
      ],
      "metadata": {
        "id": "zUptNLGT7EKa"
      }
    },
    {
      "cell_type": "code",
      "source": [
        "dados['Crossfox']['valor']"
      ],
      "metadata": {
        "colab": {
          "base_uri": "https://localhost:8080/"
        },
        "id": "rihMIU8D7Cxa",
        "outputId": "8282b190-749d-4f00-8152-627efb883d1b"
      },
      "execution_count": 54,
      "outputs": [
        {
          "output_type": "execute_result",
          "data": {
            "text/plain": [
              "25000"
            ]
          },
          "metadata": {},
          "execution_count": 54
        }
      ]
    },
    {
      "cell_type": "markdown",
      "source": [
        "#### 4) Acessar o último acessório do carro Passat (Resposta: 'ABS')"
      ],
      "metadata": {
        "id": "FO4rENXR7THc"
      }
    },
    {
      "cell_type": "code",
      "source": [
        "dados['Passat']['acessorios'][1]"
      ],
      "metadata": {
        "colab": {
          "base_uri": "https://localhost:8080/",
          "height": 35
        },
        "id": "7B-oUk6F7PtV",
        "outputId": "405c8bd7-7b2e-4354-f869-a3b09364321d"
      },
      "execution_count": 55,
      "outputs": [
        {
          "output_type": "execute_result",
          "data": {
            "text/plain": [
              "'ABS'"
            ],
            "application/vnd.google.colaboratory.intrinsic+json": {
              "type": "string"
            }
          },
          "metadata": {},
          "execution_count": 55
        }
      ]
    },
    {
      "cell_type": "markdown",
      "source": [
        "#### Código que imprime somente os nomes dos veículos com ano de fabricação maior ou igual a 2000."
      ],
      "metadata": {
        "id": "KDckN_y77o2Z"
      }
    },
    {
      "cell_type": "code",
      "source": [
        "dados = {\n",
        "    'Crossfox': {'valor': 72000, 'ano': 2005}, \n",
        "    'DS5': {'valor': 125000, 'ano': 2015}, \n",
        "    'Fusca': {'valor': 150000, 'ano': 1976}, \n",
        "    'Jetta': {'valor': 88000, 'ano': 2010}, \n",
        "    'Passat': {'valor': 106000, 'ano': 1998}\n",
        "}"
      ],
      "metadata": {
        "id": "Wo1KqFmc7afE"
      },
      "execution_count": 56,
      "outputs": []
    },
    {
      "cell_type": "code",
      "source": [
        "for item in dados.items():\n",
        "  if(item[1]['ano'] >= 2_000):\n",
        "    print(item[0])"
      ],
      "metadata": {
        "colab": {
          "base_uri": "https://localhost:8080/"
        },
        "id": "LvWi8HHq7vVs",
        "outputId": "12dbbcc1-5b96-446e-cafc-3f624900f6fe"
      },
      "execution_count": 57,
      "outputs": [
        {
          "output_type": "stream",
          "name": "stdout",
          "text": [
            "Crossfox\n",
            "DS5\n",
            "Jetta\n"
          ]
        }
      ]
    },
    {
      "cell_type": "markdown",
      "source": [
        "#### Calculando a quilometragem média de um veículo utilizando built-in functions"
      ],
      "metadata": {
        "id": "P-OgWvbc8N3D"
      }
    },
    {
      "cell_type": "code",
      "source": [
        "dados = {\n",
        "    'Crossfox': {'km': 35000, 'ano': 2005}, \n",
        "    'DS5': {'km': 17000, 'ano': 2015}, \n",
        "    'Fusca': {'km': 130000, 'ano': 1979}, \n",
        "    'Jetta': {'km': 56000, 'ano': 2011}, \n",
        "    'Passat': {'km': 62000, 'ano': 1999}\n",
        "}"
      ],
      "metadata": {
        "id": "IzR4s2n2738c"
      },
      "execution_count": 58,
      "outputs": []
    },
    {
      "cell_type": "code",
      "source": [
        "def km_media(data, ano_atual):\n",
        "  for carro in data.items():\n",
        "    resultado = carro[1]['km'] / (ano_atual - carro[1]['ano'])\n",
        "    print(carro[0], '-', resultado)\n",
        "\n",
        "km_media(dados, 2022)"
      ],
      "metadata": {
        "colab": {
          "base_uri": "https://localhost:8080/"
        },
        "id": "MP57b77K8ZP-",
        "outputId": "ac35332b-9c8e-494c-e03b-b433d1e4333d"
      },
      "execution_count": 59,
      "outputs": [
        {
          "output_type": "stream",
          "name": "stdout",
          "text": [
            "Crossfox - 2058.823529411765\n",
            "DS5 - 2428.5714285714284\n",
            "Fusca - 3023.2558139534885\n",
            "Jetta - 5090.909090909091\n",
            "Passat - 2695.6521739130435\n"
          ]
        }
      ]
    },
    {
      "cell_type": "markdown",
      "source": [
        "#### Calculando a quilometragem média de um veículo utilizando built-in (Retornam valor)"
      ],
      "metadata": {
        "id": "mt_iLKmq9btN"
      }
    },
    {
      "cell_type": "code",
      "source": [
        "def km_media(data, ano_atual):\n",
        "  resultado = {}\n",
        "  for carro in data.items():\n",
        "    media = carro[1]['km'] / (ano_atual - carro[1]['ano'])\n",
        "    resultado.update({carro[0]: media})\n",
        "  return resultado\n",
        "\n",
        "km_media(dados, 2022)"
      ],
      "metadata": {
        "colab": {
          "base_uri": "https://localhost:8080/"
        },
        "id": "BOcGJfyQ8-ON",
        "outputId": "f68917a5-ccc9-4bcb-d662-1cd10669b714"
      },
      "execution_count": 60,
      "outputs": [
        {
          "output_type": "execute_result",
          "data": {
            "text/plain": [
              "{'Crossfox': 2058.823529411765,\n",
              " 'DS5': 2428.5714285714284,\n",
              " 'Fusca': 3023.2558139534885,\n",
              " 'Jetta': 5090.909090909091,\n",
              " 'Passat': 2695.6521739130435}"
            ]
          },
          "metadata": {},
          "execution_count": 60
        }
      ]
    },
    {
      "cell_type": "markdown",
      "source": [
        "#### Adicionando valores ao dicionário"
      ],
      "metadata": {
        "id": "9YsmwG1q-pFD"
      }
    },
    {
      "cell_type": "code",
      "source": [
        "def km_media(data, ano_atual):\n",
        "  resultado = {}\n",
        "  for carro in data.items():\n",
        "    media = carro[1]['km'] / (ano_atual - carro[1]['ano'])\n",
        "    carro[1].update({'km_media': media})\n",
        "    resultado.update({carro[0]: carro[1]})\n",
        "  return resultado\n",
        "\n",
        "km_media(dados, 2022)"
      ],
      "metadata": {
        "colab": {
          "base_uri": "https://localhost:8080/"
        },
        "id": "3v2c2ULa-EiU",
        "outputId": "d67117a1-dd9e-426d-eebe-786be5f8edcd"
      },
      "execution_count": 61,
      "outputs": [
        {
          "output_type": "execute_result",
          "data": {
            "text/plain": [
              "{'Crossfox': {'km': 35000, 'ano': 2005, 'km_media': 2058.823529411765},\n",
              " 'DS5': {'km': 17000, 'ano': 2015, 'km_media': 2428.5714285714284},\n",
              " 'Fusca': {'km': 130000, 'ano': 1979, 'km_media': 3023.2558139534885},\n",
              " 'Jetta': {'km': 56000, 'ano': 2011, 'km_media': 5090.909090909091},\n",
              " 'Passat': {'km': 62000, 'ano': 1999, 'km_media': 2695.6521739130435}}"
            ]
          },
          "metadata": {},
          "execution_count": 61
        }
      ]
    }
  ]
}